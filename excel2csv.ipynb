{
 "cells": [
  {
   "cell_type": "code",
   "execution_count": 10,
   "metadata": {},
   "outputs": [],
   "source": [
    "import pandas as pd\n"
   ]
  },
  {
   "cell_type": "code",
   "execution_count": 22,
   "metadata": {},
   "outputs": [],
   "source": [
    "fi = r'C:\\Users\\LUISSOLIS\\Documents\\igme\\tmp\\Asignacion_ALS_v6.xlsx'\n",
    "sheet_name = 'CONTADORES_LS_para_gis'\n",
    "df = pd.read_excel(fi, \n",
    "                   sheet_name=sheet_name, \n",
    "                   engine='openpyxl',\n",
    "                   converters={'inscripcio': int, 'mas_a': str, 'acu_a':str,\n",
    "                               'pozo': int, 'acuiferos':str, 'observ':str})"
   ]
  },
  {
   "cell_type": "code",
   "execution_count": 6,
   "metadata": {},
   "outputs": [
    {
     "data": {
      "text/html": [
       "<div>\n",
       "<style scoped>\n",
       "    .dataframe tbody tr th:only-of-type {\n",
       "        vertical-align: middle;\n",
       "    }\n",
       "\n",
       "    .dataframe tbody tr th {\n",
       "        vertical-align: top;\n",
       "    }\n",
       "\n",
       "    .dataframe thead th {\n",
       "        text-align: right;\n",
       "    }\n",
       "</style>\n",
       "<table border=\"1\" class=\"dataframe\">\n",
       "  <thead>\n",
       "    <tr style=\"text-align: right;\">\n",
       "      <th></th>\n",
       "      <th>id</th>\n",
       "      <th>inscripcio</th>\n",
       "      <th>ism</th>\n",
       "      <th>sica</th>\n",
       "      <th>mas_a</th>\n",
       "      <th>mas_ls</th>\n",
       "      <th>nombre_mas_a</th>\n",
       "      <th>nombre_mas_ls</th>\n",
       "      <th>acu_a</th>\n",
       "      <th>acu_ls</th>\n",
       "      <th>...</th>\n",
       "      <th>utmx</th>\n",
       "      <th>utmy</th>\n",
       "      <th>vol1314</th>\n",
       "      <th>vol1415</th>\n",
       "      <th>vol1516</th>\n",
       "      <th>vol1617</th>\n",
       "      <th>vol1718</th>\n",
       "      <th>vol1819</th>\n",
       "      <th>acuiferos</th>\n",
       "      <th>observ</th>\n",
       "    </tr>\n",
       "  </thead>\n",
       "  <tbody>\n",
       "    <tr>\n",
       "      <th>141</th>\n",
       "      <td>426</td>\n",
       "      <td>3678</td>\n",
       "      <td>ISM-25/2011</td>\n",
       "      <td>S096K081509P01</td>\n",
       "      <td>070.061</td>\n",
       "      <td>NaN</td>\n",
       "      <td>ÁGUILAS</td>\n",
       "      <td>NaN</td>\n",
       "      <td>119</td>\n",
       "      <td>NaN</td>\n",
       "      <td>...</td>\n",
       "      <td>622987</td>\n",
       "      <td>4140667</td>\n",
       "      <td>342297.0</td>\n",
       "      <td>287716.0</td>\n",
       "      <td>274854.0</td>\n",
       "      <td>322174.0</td>\n",
       "      <td>939334.0</td>\n",
       "      <td>726279.0</td>\n",
       "      <td>NaN</td>\n",
       "      <td>NaN</td>\n",
       "    </tr>\n",
       "    <tr>\n",
       "      <th>142</th>\n",
       "      <td>424</td>\n",
       "      <td>3678</td>\n",
       "      <td>ISM-25/2011</td>\n",
       "      <td>S096K081507P01</td>\n",
       "      <td>070.061</td>\n",
       "      <td>NaN</td>\n",
       "      <td>ÁGUILAS</td>\n",
       "      <td>NaN</td>\n",
       "      <td>126</td>\n",
       "      <td>NaN</td>\n",
       "      <td>...</td>\n",
       "      <td>618188</td>\n",
       "      <td>4142858</td>\n",
       "      <td>119343.0</td>\n",
       "      <td>19789.0</td>\n",
       "      <td>22637.0</td>\n",
       "      <td>50646.0</td>\n",
       "      <td>158844.0</td>\n",
       "      <td>74554.0</td>\n",
       "      <td>NaN</td>\n",
       "      <td>NaN</td>\n",
       "    </tr>\n",
       "  </tbody>\n",
       "</table>\n",
       "<p>2 rows × 26 columns</p>\n",
       "</div>"
      ],
      "text/plain": [
       "      id inscripcio          ism            sica    mas_a  mas_ls  \\\n",
       "141  426       3678  ISM-25/2011  S096K081509P01  070.061     NaN   \n",
       "142  424       3678  ISM-25/2011  S096K081507P01  070.061     NaN   \n",
       "\n",
       "    nombre_mas_a  nombre_mas_ls acu_a  acu_ls  ...    utmx     utmy   vol1314  \\\n",
       "141      ÁGUILAS            NaN   119     NaN  ...  622987  4140667  342297.0   \n",
       "142      ÁGUILAS            NaN   126     NaN  ...  618188  4142858  119343.0   \n",
       "\n",
       "      vol1415   vol1516   vol1617   vol1718   vol1819  acuiferos  observ  \n",
       "141  287716.0  274854.0  322174.0  939334.0  726279.0        NaN     NaN  \n",
       "142   19789.0   22637.0   50646.0  158844.0   74554.0        NaN     NaN  \n",
       "\n",
       "[2 rows x 26 columns]"
      ]
     },
     "execution_count": 6,
     "metadata": {},
     "output_type": "execute_result"
    }
   ],
   "source": [
    "df.iloc[141:143]"
   ]
  },
  {
   "cell_type": "code",
   "execution_count": 23,
   "metadata": {},
   "outputs": [],
   "source": [
    "fo = r'C:\\Users\\LUISSOLIS\\Documents\\igme\\tmp\\Asignacion_ALS_v6.csv'\n",
    "df.to_csv(fo, index=False, encoding='utf-8')"
   ]
  },
  {
   "cell_type": "code",
   "execution_count": null,
   "metadata": {},
   "outputs": [],
   "source": []
  }
 ],
 "metadata": {
  "kernelspec": {
   "display_name": "Python 3",
   "language": "python",
   "name": "python3"
  },
  "language_info": {
   "codemirror_mode": {
    "name": "ipython",
    "version": 3
   },
   "file_extension": ".py",
   "mimetype": "text/x-python",
   "name": "python",
   "nbconvert_exporter": "python",
   "pygments_lexer": "ipython3",
   "version": "3.8.5"
  }
 },
 "nbformat": 4,
 "nbformat_minor": 4
}
